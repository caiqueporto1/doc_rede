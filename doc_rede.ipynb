{
 "cells": [
  {
   "cell_type": "markdown",
   "id": "fb823c8a",
   "metadata": {},
   "source": [
    "### Documentação de rede\n",
    "   \n",
    " - DESCRI\n",
    " - PROJECT MADE WITH: NMAP, Python e a biblioteca Pandas\n",
    " - BY: Caique Porto"
   ]
  },
  {
   "cell_type": "code",
   "execution_count": 99,
   "id": "ac561ecf",
   "metadata": {},
   "outputs": [],
   "source": [
    "# modules\n",
    "import pandas as pd\n",
    "\n",
    "# criando os dataframes\n",
    "df = pd.read_csv(\n",
    "    'inventario.txt', sep=\"\\n\",header=None)\n",
    "df2 = pd.DataFrame(columns=range(9))\n",
    "\n",
    "# criando colunas \n",
    "divisao = df[0].str.split(',') # dividindo coluna através de um delimitador\n",
    "df2.columns = ['Host', 'Latência', 'Portas filtradas', 'PORT|STATE|SERVICE', 'MAC Adress', 'Device Type', 'Running', 'Running (JUST GUESSING)', 'OS CPE']\n",
    "\n",
    "for i in divisao.index:\n",
    "    lista = divisao.loc[i]\n",
    "    for j in range(len(lista)): # iteração sobre a lista\n",
    "        # pesquisa na lista os valores necessários\n",
    "        # atribui o valor do item na coluna apropriada do segundo dataframe\n",
    "        if ('Nmap scan report for' in lista[j]):\n",
    "            df2.loc[i,'Host'] = lista[j] \n",
    "        elif ('Host is up' in lista[j]):\n",
    "            df2.loc[i,'Latência'] = lista[j]\n",
    "        elif ('Not shown' in lista[j]):\n",
    "            df2.loc[i,'Portas filtradas'] = lista[j]\n",
    "        elif ('/tcp ' in lista[j]):\n",
    "            df2.loc[i,'PORT|STATE|SERVICE'] = lista[j]\n",
    "        elif ('MAC Address' in lista[j]):\n",
    "            df2.loc[i,'MAC Adress'] = lista[j]\n",
    "        elif ('Device type' in lista[j]):\n",
    "            df2.loc[i,'Device Type'] = lista[j]\n",
    "        elif ('Running:' in lista[j]):\n",
    "            df2.loc[i,'Running'] = lista[j]\n",
    "        elif ('Running (JUST GUESSING)' in lista[j]):\n",
    "            df2.loc[i,'Running (JUST GUESSING)'] = lista[j]\n",
    "        elif ('OS CPE' in lista[j]):\n",
    "            df2.loc[i,'OS CPE'] = lista[j]\n",
    "\n",
    "# saving to excel \n",
    "# df2.to_excel('data.xlsx', index=False)"
   ]
  }
 ],
 "metadata": {
  "kernelspec": {
   "display_name": "Python 3 (ipykernel)",
   "language": "python",
   "name": "python3"
  },
  "language_info": {
   "codemirror_mode": {
    "name": "ipython",
    "version": 3
   },
   "file_extension": ".py",
   "mimetype": "text/x-python",
   "name": "python",
   "nbconvert_exporter": "python",
   "pygments_lexer": "ipython3",
   "version": "3.9.7"
  }
 },
 "nbformat": 4,
 "nbformat_minor": 5
}
